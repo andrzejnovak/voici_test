{
 "cells": [
  {
   "cell_type": "markdown",
   "id": "7e0838fb-31ff-4195-a7aa-ae493f64d8f9",
   "metadata": {},
   "source": [
    "# CMS Color Scheme - Demo Plot"
   ]
  },
  {
   "cell_type": "markdown",
   "id": "50bcd5f2-7058-44d5-b840-ea365cd6863e",
   "metadata": {},
   "source": [
    "Please enter colors below as hex codes. You can save the final modified figure using the interactive menu on the left."
   ]
  },
  {
   "cell_type": "code",
   "execution_count": 1,
   "id": "1b4ba5ec-f127-4f3a-a0b3-8bd524316abf",
   "metadata": {},
   "outputs": [],
   "source": [
    "%matplotlib widget\n",
    "\n",
    "import matplotlib\n",
    "# matplotlib.use(\"module://matplotlib.backends.html5_canvas_backend\")\n",
    "\n",
    "import matplotlib.pyplot as plt\n",
    "import matplotlib\n",
    "import numpy as np"
   ]
  },
  {
   "cell_type": "code",
   "execution_count": 2,
   "id": "ebad1d21-f557-4f5e-8823-9182a666c128",
   "metadata": {},
   "outputs": [],
   "source": [
    "import uproot\n",
    "import hist\n",
    "import mplhep as hep\n",
    "\n",
    "from ipywidgets import AppLayout, FloatSlider, Text\n",
    "from ipywidgets import Button, HBox, VBox\n",
    "from functools import partial"
   ]
  },
  {
   "cell_type": "code",
   "execution_count": 18,
   "id": "8cedb3bd-dddd-46fb-8b57-c0c336a2e5cb",
   "metadata": {},
   "outputs": [
    {
     "data": {
      "application/vnd.jupyter.widget-view+json": {
       "model_id": "523f21778b5c4be0a54455ddb74b23bb",
       "version_major": 2,
       "version_minor": 0
      },
      "text/plain": [
       "AppLayout(children=(HBox(children=(VBox(children=(Text(value='#1f77b4', description='Color0:', placeholder='na…"
      ]
     },
     "execution_count": 18,
     "metadata": {},
     "output_type": "execute_result"
    }
   ],
   "source": [
    "f = uproot.open('Histogram1D.root')\n",
    "hall = [f[th].to_hist() for th in f.keys()]\n",
    "hdata = hall[0]\n",
    "hs = hall[1:]+[hall[-1]*1]\n",
    "\n",
    "plt.ioff()\n",
    "hep.style.use([\"CMS\", {'font.sans-serif': ['Arial']}])\n",
    "colors = [matplotlib.colors.to_hex(c) for c in plt.cm.tab10.colors]\n",
    "fields = [Text(value=colors[i], placeholder='name or #HEX', description=f'Color{i}:', disabled=False) for i in range(6)]\n",
    "N = 2\n",
    "field_array = HBox([VBox(list(chunk)) for chunk in np.array(fields).reshape(N, int(len(fields)/N))])\n",
    "\n",
    "fig, ax = plt.subplots()\n",
    "hep.cms.label(\"Preliminary\", data=True)\n",
    "hep.histplot(hdata, histtype='errorbar', color='black')\n",
    "arts = hep.histplot(hs[:5], stack=True, histtype='fill', label=colors[:5]);\n",
    "arts = arts + hep.histplot(hs[-1], stack=False, histtype='step', label=colors[5])\n",
    "ax.set_xlim(60, 400)\n",
    "ax.set_ylim(100, None)\n",
    "ax.set_xlabel(\"$m_{4l}$\")\n",
    "ax.set_ylabel(\"Events\")\n",
    "# ax.semilogy()\n",
    "leg = ax.legend(ncol=2)\n",
    "\n",
    "def update_artist(art, change):\n",
    "    art.set_color(change.new)\n",
    "    art.set_label(f\"{change.new}\")\n",
    "    ax.legend()\n",
    "    fig.canvas.draw()\n",
    "    fig.canvas.flush_events()\n",
    "\n",
    "for art, text in zip(arts, fields):\n",
    "    update_specific = partial(update_artist, art.stairs)\n",
    "    text.observe(update_specific, names='value')\n",
    "\n",
    "AppLayout(\n",
    "    center=fig.canvas,\n",
    "    footer=field_array,\n",
    "    pane_heights=[0, 6, 1]\n",
    ")\n"
   ]
  },
  {
   "cell_type": "code",
   "execution_count": 10,
   "id": "6034bdfa-ed8d-41ea-a190-9348916a3f23",
   "metadata": {},
   "outputs": [
    {
     "data": {
      "text/plain": [
       "[StairsArtists(stairs=<matplotlib.patches.StepPatch object at 0x7fa1b77584d0>, errorbar=None, legend_artist=None),\n",
       " StairsArtists(stairs=<matplotlib.patches.StepPatch object at 0x7fa1b78e82d0>, errorbar=None, legend_artist=None),\n",
       " StairsArtists(stairs=<matplotlib.patches.StepPatch object at 0x7fa1b78d7150>, errorbar=None, legend_artist=None),\n",
       " StairsArtists(stairs=<matplotlib.patches.StepPatch object at 0x7fa1b77661d0>, errorbar=None, legend_artist=None),\n",
       " StairsArtists(stairs=<matplotlib.patches.StepPatch object at 0x7fa1b7767810>, errorbar=None, legend_artist=None),\n",
       " [StairsArtists(stairs=<matplotlib.patches.StepPatch object at 0x7fa1b775be10>, errorbar=<ErrorbarContainer object of 3 artists>, legend_artist=<ErrorbarContainer object of 3 artists>)]]"
      ]
     },
     "execution_count": 10,
     "metadata": {},
     "output_type": "execute_result"
    }
   ],
   "source": [
    "arts"
   ]
  },
  {
   "cell_type": "code",
   "execution_count": null,
   "id": "73428752-39a4-45c9-b7d4-5915a39932fd",
   "metadata": {},
   "outputs": [],
   "source": []
  }
 ],
 "metadata": {
  "kernelspec": {
   "display_name": "Python 3 (ipykernel)",
   "language": "python",
   "name": "python3"
  },
  "language_info": {
   "codemirror_mode": {
    "name": "ipython",
    "version": 3
   },
   "file_extension": ".py",
   "mimetype": "text/x-python",
   "name": "python",
   "nbconvert_exporter": "python",
   "pygments_lexer": "ipython3",
   "version": "3.11.5"
  }
 },
 "nbformat": 4,
 "nbformat_minor": 5
}
