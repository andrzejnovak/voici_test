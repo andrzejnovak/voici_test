{
 "cells": [
  {
   "cell_type": "code",
   "execution_count": 1,
   "id": "1b4ba5ec-f127-4f3a-a0b3-8bd524316abf",
   "metadata": {},
   "outputs": [],
   "source": [
    "%matplotlib widget\n",
    "\n",
    "import matplotlib.pyplot as plt\n",
    "import matplotlib\n",
    "import numpy as np"
   ]
  },
  {
   "cell_type": "code",
   "execution_count": 2,
   "id": "51c0d9cc-8e24-405d-a7ba-2d2d83280272",
   "metadata": {},
   "outputs": [],
   "source": [
    "CMS = {\n",
    "    \"font.sans-serif\": [\"TeX Gyre Heros\", \"Helvetica\", \"Arial\"],\n",
    "    \"font.family\": \"sans-serif\",\n",
    "    \"mathtext.fontset\": \"custom\",\n",
    "    \"mathtext.rm\": \"TeX Gyre Heros\",\n",
    "    \"mathtext.bf\": \"TeX Gyre Heros:bold\",\n",
    "    \"mathtext.sf\": \"TeX Gyre Heros\",\n",
    "    \"mathtext.it\": \"TeX Gyre Heros:italic\",\n",
    "    \"mathtext.tt\": \"TeX Gyre Heros\",\n",
    "    \"mathtext.cal\": \"TeX Gyre Heros\",\n",
    "    \"mathtext.default\": \"regular\",\n",
    "    \"figure.figsize\": (10.0, 10.0),\n",
    "    \"font.size\": 26,\n",
    "    \"axes.labelsize\": \"medium\",\n",
    "    \"axes.unicode_minus\": False,\n",
    "    \"xtick.labelsize\": \"small\",\n",
    "    \"ytick.labelsize\": \"small\",\n",
    "    \"legend.fontsize\": \"small\",\n",
    "    \"legend.handlelength\": 1.5,\n",
    "    \"legend.borderpad\": 0.5,\n",
    "    \"legend.frameon\": False,\n",
    "    \"xtick.direction\": \"in\",\n",
    "    \"xtick.major.size\": 12,\n",
    "    \"xtick.minor.size\": 6,\n",
    "    \"xtick.major.pad\": 6,\n",
    "    \"xtick.top\": True,\n",
    "    \"xtick.major.top\": True,\n",
    "    \"xtick.major.bottom\": True,\n",
    "    \"xtick.minor.top\": True,\n",
    "    \"xtick.minor.bottom\": True,\n",
    "    \"xtick.minor.visible\": True,\n",
    "    \"ytick.direction\": \"in\",\n",
    "    \"ytick.major.size\": 12,\n",
    "    \"ytick.minor.size\": 6.0,\n",
    "    \"ytick.right\": True,\n",
    "    \"ytick.major.left\": True,\n",
    "    \"ytick.major.right\": True,\n",
    "    \"ytick.minor.left\": True,\n",
    "    \"ytick.minor.right\": True,\n",
    "    \"ytick.minor.visible\": True,\n",
    "    \"grid.alpha\": 0.8,\n",
    "    \"grid.linestyle\": \":\",\n",
    "    \"axes.linewidth\": 2,\n",
    "    \"savefig.transparent\": False,\n",
    "    \"xaxis.labellocation\": \"right\",\n",
    "    \"yaxis.labellocation\": \"top\",\n",
    "}\n",
    "\n",
    "plt.style.use(CMS)"
   ]
  },
  {
   "cell_type": "code",
   "execution_count": 3,
   "id": "2402746b-b804-4377-9de3-94b6c46ac7a7",
   "metadata": {},
   "outputs": [
    {
     "data": {
      "application/vnd.jupyter.widget-view+json": {
       "model_id": "d4f45c24661144e492bc0e51ab7d60e2",
       "version_major": 2,
       "version_minor": 0
      },
      "text/plain": [
       "AppLayout(children=(HBox(children=(VBox(children=(Text(value='#1f77b4', description='Color0:', placeholder='na…"
      ]
     },
     "execution_count": 3,
     "metadata": {},
     "output_type": "execute_result"
    }
   ],
   "source": [
    "# One can bound figure attributes to other widget values.\n",
    "from ipywidgets import AppLayout, FloatSlider, Text\n",
    "from ipywidgets import Button, HBox, VBox\n",
    "from functools import partial\n",
    "\n",
    "plt.ioff()\n",
    "\n",
    "colors = [matplotlib.colors.to_hex(c) for c in plt.cm.tab10.colors]\n",
    "\n",
    "fields = [Text(value=colors[i], placeholder='name or #HEX', description=f'Color{i}:', disabled=False) for i in range(8)]\n",
    "N = 2\n",
    "field_array = HBox([VBox(list(chunk)) for chunk in np.array(fields).reshape(N, int(len(fields)/N))])\n",
    "\n",
    "# text = Text(\n",
    "#     value='black',\n",
    "#     placeholder='Type something',\n",
    "#     description='Color1:',\n",
    "#     disabled=False   \n",
    "# )\n",
    "\n",
    "\n",
    "# slider.layout.margin = '0px 30% 0px 30%'\n",
    "# slider.layout.width = '40%'\n",
    "\n",
    "# fig, ax = plt.subplots()\n",
    "# fig.canvas.header_visible = False\n",
    "# fig.canvas.layout.min_height = '400px'\n",
    "# plt.title('Plotting: y=sin({} * x)'.format(slider.value))\n",
    "\n",
    "fig, ax = plt.subplots()\n",
    "bins = np.linspace(0, 10, 41)\n",
    "\n",
    "h0, _ = np.histogram(np.random.normal(-2, 5, 1000000), bins=bins)\n",
    "hs = [np.histogram(np.random.normal(i, 1, 100000), bins=bins)[0] for i in [2,3,4,5,8]]\n",
    "hall = [h0] + hs\n",
    "hbase = np.cumsum(hall, axis=0) - hall\n",
    "\n",
    "arts = [ax.stairs(hbase[i]+hall[i], baseline=hbase[i], fill=True, color=c) for i, c in zip(range(len(hall)), colors)]\n",
    "art_dat = plt.errorbar((np.arange(len(h0))+0.5), np.random.poisson(np.sum(hall, axis=0)), color='black', fmt='o', markersize=5, \n",
    "                       yerr=np.sqrt(20*np.random.poisson(np.sum(hall, axis=0))), capsize=2)\n",
    "ax.set_xlim(0, 40)\n",
    "\n",
    "def update_artist(art, change):\n",
    "    art.set_color(change.new)\n",
    "    fig.canvas.draw()\n",
    "    fig.canvas.flush_events()\n",
    "\n",
    "for art, text in zip(arts, fields):\n",
    "    update_specific = partial(update_artist, art)\n",
    "    text.observe(update_specific, names='value')\n",
    "\n",
    "AppLayout(\n",
    "    center=fig.canvas,\n",
    "    footer=field_array,\n",
    "    pane_heights=[0, 6, 1]\n",
    ")"
   ]
  },
  {
   "cell_type": "code",
   "execution_count": 2,
   "id": "ebad1d21-f557-4f5e-8823-9182a666c128",
   "metadata": {},
   "outputs": [],
   "source": [
    "import uproot\n",
    "import hist\n",
    "import mplhep as hep\n",
    "\n",
    "from ipywidgets import AppLayout, FloatSlider, Text\n",
    "from ipywidgets import Button, HBox, VBox\n",
    "from functools import partial"
   ]
  },
  {
   "cell_type": "code",
   "execution_count": 24,
   "id": "8cedb3bd-dddd-46fb-8b57-c0c336a2e5cb",
   "metadata": {},
   "outputs": [
    {
     "data": {
      "application/vnd.jupyter.widget-view+json": {
       "model_id": "4d8e9e2633774fcab8c775d3b0c01e6f",
       "version_major": 2,
       "version_minor": 0
      },
      "text/plain": [
       "AppLayout(children=(HBox(children=(VBox(children=(Text(value='#1f77b4', description='Color0:', placeholder='na…"
      ]
     },
     "execution_count": 24,
     "metadata": {},
     "output_type": "execute_result"
    }
   ],
   "source": [
    "f = uproot.open('Histogram1D.root')\n",
    "hall = [f[th].to_hist() for th in f.keys()]\n",
    "hdata = hall[0]\n",
    "hs = hall[1:]+[hall[-1]]\n",
    "\n",
    "plt.ioff()\n",
    "hep.style.use(\"CMS\")\n",
    "colors = [matplotlib.colors.to_hex(c) for c in plt.cm.tab10.colors]\n",
    "fields = [Text(value=colors[i], placeholder='name or #HEX', description=f'Color{i}:', disabled=False) for i in range(8)]\n",
    "N = 2\n",
    "field_array = HBox([VBox(list(chunk)) for chunk in np.array(fields).reshape(N, int(len(fields)/N))])\n",
    "\n",
    "fig, ax = plt.subplots()\n",
    "hep.cms.label(\"Preliminary\", data=True)\n",
    "hep.histplot(hdata, histtype='errorbar', color='black')\n",
    "arts = hep.histplot(hs, stack=True, histtype='fill', label=colors);\n",
    "ax.set_xlim(60, 400)\n",
    "ax.set_ylim(100, None)\n",
    "ax.set_xlabel(\"$m_{4l}$\")\n",
    "ax.set_ylabel(\"Events\")\n",
    "ax.semilogy()\n",
    "leg = ax.legend(ncol=2)\n",
    "\n",
    "def update_artist(art, change):\n",
    "    art.set_color(change.new)\n",
    "    art.set_label(f\"{change.new}\")\n",
    "    ax.legend()\n",
    "    fig.canvas.draw()\n",
    "    fig.canvas.flush_events()\n",
    "\n",
    "for art, text in zip(arts, fields):\n",
    "    update_specific = partial(update_artist, art.stairs)\n",
    "    text.observe(update_specific, names='value')\n",
    "\n",
    "AppLayout(\n",
    "    center=fig.canvas,\n",
    "    footer=field_array,\n",
    "    pane_heights=[0, 6, 1]\n",
    ")\n"
   ]
  },
  {
   "cell_type": "code",
   "execution_count": null,
   "id": "5fd6a069-5f72-42b6-a590-4f7bd5a920d4",
   "metadata": {},
   "outputs": [],
   "source": []
  }
 ],
 "metadata": {
  "kernelspec": {
   "display_name": "Python 3 (ipykernel)",
   "language": "python",
   "name": "python3"
  },
  "language_info": {
   "codemirror_mode": {
    "name": "ipython",
    "version": 3
   },
   "file_extension": ".py",
   "mimetype": "text/x-python",
   "name": "python",
   "nbconvert_exporter": "python",
   "pygments_lexer": "ipython3",
   "version": "3.10.12"
  }
 },
 "nbformat": 4,
 "nbformat_minor": 5
}
